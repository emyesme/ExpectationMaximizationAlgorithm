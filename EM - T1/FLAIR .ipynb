{
  "cells": [
    {
      "cell_type": "markdown",
      "metadata": {
        "id": "view-in-github",
        "colab_type": "text"
      },
      "source": [
        "<a href=\"https://colab.research.google.com/github/emyesme/ExpectationMaximizationAlgorithm/blob/main/EM%20-%20T1/FLAIR%20.ipynb\" target=\"_parent\"><img src=\"https://colab.research.google.com/assets/colab-badge.svg\" alt=\"Open In Colab\"/></a>"
      ]
    },
    {
      "cell_type": "markdown",
      "metadata": {
        "id": "CzeCLLV-xK9x"
      },
      "source": [
        "## libraries"
      ]
    },
    {
      "cell_type": "code",
      "execution_count": 6,
      "metadata": {
        "colab": {
          "base_uri": "https://localhost:8080/"
        },
        "id": "hJSAkZrNibUM",
        "outputId": "845b8ea4-96a6-4a8e-8234-7c57a2848cb6"
      },
      "outputs": [
        {
          "output_type": "stream",
          "name": "stdout",
          "text": [
            "Mounted at /content/drive\n"
          ]
        }
      ],
      "source": [
        "from matplotlib import pyplot as plt\n",
        "from skimage import measure\n",
        "from scipy import stats\n",
        "import nibabel as nib\n",
        "import numpy as np\n",
        "import cv2\n",
        "import os\n",
        "\n",
        "\n",
        "from google.colab import drive\n",
        "\n",
        "# This will prompt for authorization.\n",
        "drive.mount('/content/drive')"
      ]
    },
    {
      "cell_type": "markdown",
      "metadata": {
        "id": "sxC-G0zYvkYP"
      },
      "source": [
        "## functions"
      ]
    },
    {
      "cell_type": "code",
      "execution_count": 7,
      "metadata": {
        "id": "BwAHIPCMl_O6"
      },
      "outputs": [],
      "source": [
        "# kmeans clustering segmentation \n",
        "# vector: matrix: large x 1 -> of intensity values of the brain\n",
        "# k: number -> quantity of clusters\n",
        "# return: matrix, matrix \n",
        "def segmentation_kmeans(vector, k):\n",
        "    # color space change\n",
        "    # matrix = cv2.cvtColor(matrix, cv2.COLOR_BGR2RGB)\n",
        "    # reshape the image to be a list of pixels\n",
        "    data = np.float32(vector)\n",
        "\n",
        "    # Define criteria = ( type, max_iter = 10 , epsilon = 1.0 )\n",
        "    criteria = (cv2.TERM_CRITERIA_EPS + cv2.TERM_CRITERIA_MAX_ITER, 10, 1.0)\n",
        "\n",
        "    # Set flags (Just to avoid line break in the code)\n",
        "    flags = cv2.KMEANS_RANDOM_CENTERS\n",
        "\n",
        "    # Apply KMeans\n",
        "    compactness,labels,centers = cv2.kmeans(data,k,None,criteria,10,flags)\n",
        "\n",
        "    centers = np.uint8(centers)\n",
        "    res = centers[labels.flatten()]\n",
        "    res2 = res.reshape((vector.shape))\n",
        "\n",
        "    mask = cv2.normalize(res2, None, alpha=0, beta=1, norm_type=cv2.NORM_MINMAX, dtype=cv2.CV_32F)\n",
        "    \n",
        "    #print(mask.shape)\n",
        "    \n",
        "    return mask, labels"
      ]
    },
    {
      "cell_type": "code",
      "execution_count": 61,
      "metadata": {
        "id": "zQteoLqCmiNU"
      },
      "outputs": [],
      "source": [
        "# given volume, labels and ground truth\n",
        "# return the vectors of intensity \n",
        "# corresponding to csf, wm and gm respectively\n",
        "# labels: array large x 1 -> volume of labels\n",
        "# brain: array  240 x 240 x 48 -> volume of intensities of the brain\n",
        "# gt: array 240 x 240 x 48 -> ground truth\n",
        "# result: array, array, array\n",
        "def get_vector_image(labels, brain):\n",
        "  csf = brain[(labels == 1).reshape(-1)]\n",
        "  wm = brain[(labels == 2).reshape(-1)]\n",
        "  gm = brain[(labels == 3).reshape(-1)]\n",
        "\n",
        "  print('get vector image len(csf) ', len(csf))\n",
        "  print('get gector image len(wm) ', len(wm))\n",
        "  print('get vector image len(gm) ', len(gm))\n",
        "\n",
        "  print(\"csf zeros \", np.count_nonzero(csf))\n",
        "  print(\"wm zeros \", np.count_nonzero(wm))\n",
        "  print(\"gm zeros \", np.count_nonzero(gm))\n",
        "\n",
        "  #m = np.where(gt != 0)\n",
        "\n",
        "  return csf, wm, gm"
      ]
    },
    {
      "cell_type": "code",
      "execution_count": 62,
      "metadata": {
        "id": "4OayBP20Em8i"
      },
      "outputs": [],
      "source": [
        "# given volume of 2 different sequences return mean and standard deviation\n",
        "# t1: array  240 x 240 x 48 -> volume of intensities of the brain of one sequence\n",
        "# flair: array 240 x 240 x 48 -> volume of intensities of the brain of other sequence\n",
        "# result: array, array -> meand and std for each sequence respectively\n",
        "def init_mean_cov(t1, flair):\n",
        "\n",
        "  mean1 = np.mean(t1)\n",
        "  mean2 = np.mean(flair)\n",
        "  mean_f = np.vstack((mean1, mean2))\n",
        "\n",
        "  std_f = np.cov(t1,flair)  \n",
        "\n",
        "  return mean_f, std_f"
      ]
    },
    {
      "cell_type": "code",
      "execution_count": 63,
      "metadata": {
        "id": "CgVMILIUathk"
      },
      "outputs": [],
      "source": [
        "# given intensities, weights for a cluster k and nk compute the empirical avg standard\n",
        "# x: array  2 x large -> volume of intensities of the brain of one sequence\n",
        "# wk: array large x 1 -> weights in each pixel for cluster k\n",
        "# nk: number -> sum of all the weights in a cluster k\n",
        "# result: array 2 x 1 -> meand and std for each sequence respectively\n",
        "def new_mean(x, wk, nk):  \n",
        "\n",
        "  result = np.sum(np.multiply(wk, x[:,0,:]), axis=1)\n",
        "\n",
        "  return result/nk\n"
      ]
    },
    {
      "cell_type": "code",
      "execution_count": 64,
      "metadata": {
        "id": "e20_b-jY32tS"
      },
      "outputs": [],
      "source": [
        "# given intensities, weights for a cluster k and nk compute the empirical avg standard\n",
        "# dif: array  2 x large -> difference of intensities with corresponding mean for each pixel\n",
        "# wk: array large x 1 -> weights in each pixel for cluster k\n",
        "# nk: number -> sum of all the weights in a cluster k\n",
        "# result: array 2 x 1 -> meand and std for each sequence respectively\n",
        "def new_cov(dif, wk, nk):\n",
        "\n",
        "  result = np.matmul(np.multiply(wk, dif), np.transpose(dif))\n",
        "  \n",
        "  return result / nk"
      ]
    },
    {
      "cell_type": "code",
      "execution_count": 65,
      "metadata": {
        "id": "yW96Elmk09IA"
      },
      "outputs": [],
      "source": [
        "# mulvariate gaussian density\n",
        "# dif: array 2 x large -> xi - mu for each cluster ki\n",
        "# dim: number -> number of dimensions in this case 2 sequences t1 and flair \n",
        "# detstd: array 1 x 3 -> determinant of covariance matrix for each cluster \n",
        "# invstd: array 2x2 x 3  -> inverses of matrices of covariance fir each cluster\n",
        "# result: number\n",
        "def gauss_mix_model(dif, dim, detstd, invstd):\n",
        "\n",
        "  tdif = np.transpose(dif)\n",
        "  pow = (-0.5) * np.matmul(np.matmul( tdif, invstd), (dif)).reshape(-1)[0]\n",
        "  den = ((2 * np.pi) ** (dim/2)) * (detstd ** (0.5))\n",
        "  result = ( 1 / den ) * np.exp(pow)\n",
        "\n",
        "  return result\n",
        "\n",
        "# compute inverse and determinant of std\n",
        "# std: array (2x2)x3  -> 3 matrices of covariance (2x2)\n",
        "# result: array, array\n",
        "def inv_det_std(std):\n",
        "  # compute inverse of covariance matrices\n",
        "  invstd = np.array([ [np.linalg.inv(std[0,:,:,:][0])],\n",
        "                      [np.linalg.inv(std[1,:,:,:][0])],\n",
        "                      [np.linalg.inv(std[2,:,:,:][0])]])\n",
        "\n",
        "  # compute determinant of covariance matrices\n",
        "  detstd = np.array([ np.linalg.det(std[0,:,:,:][0]),\n",
        "                      np.linalg.det(std[1,:,:,:][0]),\n",
        "                      np.linalg.det(std[2,:,:,:][0])])\n",
        "  return invstd, detstd\n",
        "\n",
        "# multivariate gaussian probability density function\n",
        "# x: 2 x large -> intensities vector\n",
        "# k: number -> number of clusters\n",
        "# mu: array  2x3 -> avg of values for each cluster and dimension\n",
        "# std: array (2x2)x3  -> 3 matrices of covariance (2x2)\n",
        "def prior_probs_lib(x, k, mu, std ):\n",
        "\n",
        "  p_gauss = np.zeros((x.shape[2],k))\n",
        "\n",
        "  for ki in range(k):\n",
        "    # compute multivariate gaussian\n",
        "    p_gauss[:,ki] = stats.multivariate_normal.pdf(np.transpose(x[:,0,:]), mean=np.array(mu[:,ki]), cov=std[ki,:,:,:][0])\n",
        "\n",
        "    # computing necessary things \n",
        "    rmu = np.repeat(np.transpose([mu[:,ki]]), x.shape[2], axis=1)\n",
        "\n",
        "    # compute x - u\n",
        "    dif = x[:,0,:] - rmu\n",
        "  \n",
        "  return p_gauss, dif\n",
        "\n",
        "\n",
        "# prior probabilities computation\n",
        "# x: 2 x large -> intensities vector\n",
        "# k: number -> number of clusters\n",
        "# mu: array  2x3 -> avg of values for each cluster and dimension\n",
        "# std: array (2x2)x3  -> 3 matrices of covariance (2x2)\n",
        "# dim: number -> number of dimensions in this case 2 sequeneces t1 and flair\n",
        "def prior_probs(x, k, mu, std, dim):\n",
        "  # membership matrix variables\n",
        "  p_gauss = np.zeros((x.shape[2],k))\n",
        "\n",
        "  # compute inv and det of std\n",
        "  invstd, detstd = inv_det_std(std)\n",
        "\n",
        "  # for each cluster k\n",
        "  for ki in range(k):\n",
        "\n",
        "    # computing necessary things \n",
        "    rmu = np.repeat(np.transpose([mu[:,ki]]), x.shape[2], axis=1)\n",
        "\n",
        "    # compute x - u\n",
        "    dif = x[:,0,:] - rmu\n",
        "\n",
        "    # compute individual memberships\n",
        "    for dif_i in range(dif.shape[1]):\n",
        "      # compute the membership of given intensity value to the cluster ki\n",
        "      p_gauss[dif_i, ki] = gauss_mix_model(dif[:,dif_i], dim, detstd[ki], invstd[ki,:,:,:][0])\n",
        "\n",
        "  return p_gauss, dif\n",
        "\n",
        "\n",
        "# compute the membership by cluster\n",
        "# p_gauss 2 x large \n",
        "# alpha_k: array 1x3 -> proportion of points we have in each cluster\n",
        "# result: weights matrix: n x k\n",
        "def membership(p_gauss, alpha):\n",
        "  \n",
        "  # compute individual memberships n x k\n",
        "  numerator = np.multiply(p_gauss, np.array(alpha))\n",
        "  \n",
        "  # compute all memberships for denominator of gaussian formula\n",
        "  denominator = np.matmul(p_gauss, np.array(alpha)) # n x 1\n",
        "\n",
        "  # for each numerator in i the denominator is the same for the 3 clusters\n",
        "  rdenominator = np.transpose(np.repeat(np.array([denominator]), k, axis=0))\n",
        "  \n",
        "  # weights \n",
        "  weights = np.divide(numerator, rdenominator)\n",
        "\n",
        "  # checking condition of sum row = 1\n",
        "  #print(\"checksum \", (np.round(weights.sum(axis=1))==1).all())\n",
        "\n",
        "  return weights\n",
        "\n",
        "# prepare probabilities of the voxels\n",
        "# receive probability maps and brain mask of the deformed atlas\n",
        "# and return a matrix n x k with n as intensities\n",
        "# k quantity of clusters -> n x k\n",
        "def membership_atlas(intensity_atlas, prob_csf, prob_wm, prob_gm):\n",
        "  # get indexes of brain pixels to start pairing probabilities\n",
        "\n",
        "  brain_mask = (prob_csf + prob_gm + prob_wm).astype(int) ##########\n",
        "  print(np.array(brain_mask).shape)\n",
        "\n",
        "  # indexes of voxels that are part of the brain\n",
        "  m = np.where(brain_mask != 0)\n",
        "\n",
        "  # resulting matrix\n",
        "  result = np.zeros((m.shape[1],m.shape[0]))####\n",
        "\n",
        "  # pairing\n",
        "  count=0\n",
        "  for i, j, k in zip(m[0], m[1], m[2]):\n",
        "    # place the value of each probabilistic atlas tissue in the corresponding pixel\n",
        "    result[count, :] = [prob_csf[i, j, k], prob_gm[i, j, k], prob_wm[i, j, k]] # csf, gm, wm\n",
        "    count += 1\n",
        "\n",
        "  #print('shape result ', result.shape)\n",
        "  return result\n"
      ]
    },
    {
      "cell_type": "code",
      "execution_count": 66,
      "metadata": {
        "id": "d-7gYdKXmaI0"
      },
      "outputs": [],
      "source": [
        "# Computes soerensen-dice coefficient.\n",
        "\n",
        "# compute the soerensen-dice coefficient between the ground truth mask `mask_gt`\n",
        "# and the predicted mask `mask_pred`.\n",
        "\n",
        "# Args:\n",
        "#   mask_gt: 3-dim Numpy array of type bool. The ground truth mask.\n",
        "#   mask_pred: 3-dim Numpy array of type bool. The predicted mask.\n",
        "\n",
        "# Returns:\n",
        "#   the dice coeffcient as float. If both masks are empty, the result is NaN.\n",
        "def compute_dice_coefficient(mask_gt, mask_pred):\n",
        "  volume_sum = mask_gt.sum() + mask_pred.sum()\n",
        "  if volume_sum == 0:\n",
        "    return np.NaN\n",
        "  volume_intersect = (mask_gt & mask_pred).sum()\n",
        "  \n",
        "  return 2*volume_intersect / volume_sum "
      ]
    },
    {
      "cell_type": "code",
      "execution_count": 226,
      "metadata": {
        "id": "SnvIr4NtyQHC"
      },
      "outputs": [],
      "source": [
        "# get the right cluster\n",
        "\n",
        "def get_right_cluster(gt, labels, image):\n",
        "\n",
        "  plt.imshow(labels[:,:,24], cmap='gray')\n",
        "  plt.title(\"previous right clusters\")\n",
        "  plt.show()\n",
        "\n",
        "  avgs_gt = []\n",
        "  avgs_labels = []\n",
        "\n",
        "  for tissue in [1,2,3]:\n",
        "    pixels_gt = image[gt == tissue]\n",
        "    pixels_labels = image[labels == tissue]\n",
        "    # compute avg of each tissue using gt\n",
        "    avgs_gt.append(np.mean(pixels_gt))\n",
        "    # compute avg of each tissue using em result\n",
        "    avgs_labels.append(np.mean(pixels_labels))\n",
        "\n",
        "  # save original keys from gt and avgs\n",
        "  dict_gt = dict(zip(range(1,4), avgs_gt))\n",
        "  dict_labels = dict(zip(range(1,4), avgs_labels))\n",
        "\n",
        "  # sort\n",
        "  avgs_gt.sort()\n",
        "  avgs_labels.sort()\n",
        "\n",
        "  # get keys of sorted values in dictionaries\n",
        "  keys_gt = [key for idx, (key, value) in enumerate(dict_gt.items()) if value ==  avgs_gt[idx]]\n",
        "\n",
        "  keys_labels = []\n",
        "  # sort the dictionary\n",
        "  for k in sorted(dict_labels, key=dict_labels.get, reverse=False):\n",
        "      keys_labels.append(k)\n",
        "\n",
        "  # create final lut\n",
        "  change = np.arange(4)\n",
        "  for gt, label in zip(keys_gt, keys_labels):\n",
        "    change[int(label)] = int(gt)\n",
        "  \n",
        "  labels = labels.astype(np.uint8)\n",
        "  \n",
        "  # change labels\n",
        "  result = change[labels]\n",
        "\n",
        "  plt.imshow(result[:,:, 24], cmap='gray')\n",
        "  plt.title(\"after right clusters\")\n",
        "  plt.show()\n",
        "\n",
        "\n",
        "  return result"
      ]
    },
    {
      "cell_type": "markdown",
      "metadata": {
        "id": "tqSuBZFsvofl"
      },
      "source": [
        "# Main algorithm"
      ]
    },
    {
      "cell_type": "code",
      "execution_count": 224,
      "metadata": {
        "colab": {
          "base_uri": "https://localhost:8080/",
          "height": 719
        },
        "id": "kQyUhKGvmC3t",
        "outputId": "bf80b150-71e1-479b-c71b-be65ccb2e3cb"
      },
      "outputs": [
        {
          "output_type": "display_data",
          "data": {
            "text/plain": [
              "<Figure size 432x288 with 1 Axes>"
            ],
            "image/png": "[encoded data removed]"
          },
          "metadata": {
            "needs_background": "light"
          }
        },
        {
          "output_type": "stream",
          "name": "stdout",
          "text": [
            "gt shape  (240, 240, 48)\n",
            "labels shape  (240, 240, 48)\n",
            "avgs gt  [37.195158052351864, 69.4055587876718, 95.97107285254297]\n",
            "avgs labels  [94.75531349206233, 34.34690835907022, 67.40209655681694]\n",
            "2 34.34690835907022\n",
            "3 67.40209655681694\n",
            "1 94.75531349206233\n",
            "[1, 2, 3]\n",
            "[2, 3, 1]\n",
            "[0 3 1 2]\n"
          ]
        },
        {
          "output_type": "display_data",
          "data": {
            "text/plain": [
              "<Figure size 432x288 with 1 Axes>"
            ],
            "image/png": "[encoded data removed]"
          },
          "metadata": {
            "needs_background": "light"
          }
        }
      ],
      "source": [
        "FOLDER_DIR = \"/content/drive/MyDrive/MAIA/Semester3/MISA/P2_data/5\"\n",
        "\n",
        "patients = ['1', '2', '3', '4', '5']\n",
        "\n",
        "# # import data\n",
        "# for patient in patients:\n",
        "\n",
        "img = nib.load(os.path.join(FOLDER_DIR, 'T1.nii')).get_fdata()\n",
        "img_info = nib.load(os.path.join(FOLDER_DIR, 'T1.nii'))\n",
        "#print(img_info.affine)\n",
        "img_flair = nib.load(os.path.join(FOLDER_DIR,'T2_FLAIR.nii')).get_fdata()\n",
        "gt = nib.load(os.path.join(FOLDER_DIR,  'LabelsForTesting.nii')).get_fdata()\n",
        "\n",
        "# normalisation step\n",
        "img = cv2.normalize(img, None, alpha=0, beta=255, norm_type=cv2.NORM_MINMAX)\n",
        "img_flair = cv2.normalize(img_flair, None, alpha=0, beta=255, norm_type=cv2.NORM_MINMAX)\n",
        "\n",
        "# skull stripping with the groundtruth mask\n",
        "brain_t1 = img[gt > 0]\n",
        "flair = img_flair[gt > 0]\n",
        "\n",
        "# brain vector of intensities\n",
        "vector_brain = brain_t1.reshape(-1)\n",
        "\n",
        "# get kmeans to extract initialisation parameters\n",
        "kmeans, labels = segmentation_kmeans(vector_brain, 3)\n",
        "\n",
        "# initialising variable of kmeans labels\n",
        "reshape_kmeans = np.zeros(img.shape)\n",
        "\n",
        "# indexes of voxels that are part of the brain\n",
        "m = np.where(gt != 0)\n",
        "\n",
        "\n",
        "count = 0\n",
        "for i, j, k in zip(m[0], m[1], m[2]):\n",
        "    # reconstruction of labels\n",
        "    reshape_kmeans[i, j, k] = labels[count] + 1\n",
        "    count += 1\n",
        "\n",
        "labels = get_right_cluster(gt, reshape_kmeans, img)"
      ]
    },
    {
      "cell_type": "code",
      "execution_count": 229,
      "metadata": {
        "id": "ObmevZllP802",
        "colab": {
          "base_uri": "https://localhost:8080/"
        },
        "outputId": "5fc7816a-cc6a-4196-9063-1be96b8c8b5d"
      },
      "outputs": [
        {
          "output_type": "stream",
          "name": "stdout",
          "text": [
            "get vector image len(csf)  125196\n",
            "get gector image len(wm)  183617\n",
            "get vector image len(gm)  161416\n",
            "csf zeros  125196\n",
            "wm zeros  183617\n",
            "gm zeros  161416\n",
            "get vector image len(csf)  125196\n",
            "get gector image len(wm)  183617\n",
            "get vector image len(gm)  161416\n",
            "csf zeros  125146\n",
            "wm zeros  183611\n",
            "gm zeros  161415\n"
          ]
        }
      ],
      "source": [
        "# INITIALIZE \n",
        "\n",
        "labels = labels[gt > 0]\n",
        "\n",
        "# get csf, wm and gm\n",
        "csf_t1, wm_t1, gm_t1 =  get_vector_image(labels, brain_t1)\n",
        "csf_fl, wm_fl, gm_fl =  get_vector_image(labels, flair)\n",
        "\n",
        "# mean and std of csf, wm, gm\n",
        "mean_csf, std_csf = init_mean_cov(csf_t1, csf_fl) # mean 2x1, std 2x2\n",
        "mean_wm, std_wm = init_mean_cov(wm_t1, wm_fl) \n",
        "mean_gm, std_gm = init_mean_cov(gm_t1, gm_fl)\n",
        "\n",
        "# initial mu 2x3 and std (2x2)x3\n",
        "mu = np.hstack((mean_csf, mean_wm, mean_gm))\n",
        "std = np.array([ [std_csf], [std_wm], [std_gm] ])\n",
        "\n",
        "# x array of pixels values for both dimensions\n",
        "x = np.array([ [brain_t1],[flair] ]) # xi is 2x1. 2x1x(all brain pixels)\n",
        "\n",
        "# initial alpha \n",
        "alpha = np.array([1/3,1/3,1/3])\n",
        "\n",
        "# clusters\n",
        "k = 3\n",
        "\n",
        "# iterations\n",
        "iterations = 500\n",
        "\n",
        "# dimensions\n",
        "dim = 2\n",
        "\n",
        "# initial weights matrix\n",
        "weights = np.zeros((x.shape[2], k), dtype=np.float32)\n",
        "\n",
        "# COMPUTE LOGLIKELIHOOD\n",
        "\n",
        "# compute inv and det of std\n",
        "invstd, detstd = inv_det_std(std)\n",
        "\n",
        "# membership matrix variables\n",
        "# library so fast, 1 second per epoch\n",
        "p_gauss, dif = prior_probs_lib(x, k, mu, std)\n",
        "# our 30s per epoch\n",
        "#p_gauss, dif = prior_probs(x, k, mu, std, dim)\n",
        "\n",
        "# initial loglikelihood\n",
        "log_likelihood = -100"
      ]
    },
    {
      "cell_type": "code",
      "execution_count": 230,
      "metadata": {
        "colab": {
          "base_uri": "https://localhost:8080/"
        },
        "id": "hWXzrrOBuVGA",
        "outputId": "afba91da-0231-4e38-90fd-fe547de5ee6f"
      },
      "outputs": [
        {
          "output_type": "stream",
          "name": "stdout",
          "text": [
            "Convergence achieved before ending iterations!\n",
            "Final time:  43.989503145217896\n"
          ]
        }
      ],
      "source": [
        "# REPEAT while true\n",
        "import time\n",
        "\n",
        "start = time.time()\n",
        "\n",
        "# atlas information extraction\n",
        "#weights_atlas = membership_atlas(intensity_atlas, prob_csf, prob_wm, prob_gm)\n",
        "\n",
        "for iteration in range(iterations):\n",
        "\n",
        "  # EXPECTATION STEP \n",
        "  \n",
        "  # compute membership \n",
        "  weights = membership(p_gauss, alpha)\n",
        "  #weights = np.multiply(weights_belonging, weights_atlas)\n",
        "\n",
        "  # MAXIMITATION STEP\n",
        "\n",
        "  # for each cluster\n",
        "  for ki in range(k):\n",
        "\n",
        "    # computing necessary things \n",
        "    rmu = np.repeat(np.transpose([mu[:,ki]]), x.shape[2], axis=1)\n",
        "\n",
        "    # compute x - u\n",
        "    dif = x[:,0,:] - rmu\n",
        "\n",
        "    # compute  nk\n",
        "    nk = np.sum(weights[:,ki])\n",
        "    # compute alpha\n",
        "    alpha[ki] = nk / x.shape[2]\n",
        "    # compute mu \n",
        "    mu[:,ki] = new_mean(x, weights[:,ki], nk).reshape(-1)\n",
        "    # compute std\n",
        "    std[ki,:,:,:][0] = new_cov(dif, weights[:,ki], nk)\n",
        "    \n",
        "  # CONVERGENCE RULE\n",
        "\n",
        "  # compute membership matrix\n",
        "  \n",
        "  # library so fast, 1 second per epoch\n",
        "  p_gauss, dif = prior_probs_lib(x, k, mu, std)\n",
        "  # our 30s per epoch\n",
        "  #p_gauss, dif = prior_probs(x, k, mu, std, dim)\n",
        "\n",
        "  p_gauss_alpha = np.matmul(p_gauss, np.array(alpha))\n",
        "\n",
        "  # compute likelihood\n",
        "  tmplikelihood = np.sum(np.log(p_gauss_alpha))\n",
        "  \n",
        "  # checking convergence criterion\n",
        "  #print('dif ', (tmplikelihood - log_likelihood) )\n",
        "\n",
        "  if np.abs(tmplikelihood - log_likelihood) < 1e-10:\n",
        "    print(\"Convergence achieved before ending iterations!\")\n",
        "    break\n",
        "\n",
        "  log_likelihood = tmplikelihood\n",
        "\n",
        "  #print('iter ', iteration)\n",
        "\n",
        "print('Final time: ', time.time()-start)"
      ]
    },
    {
      "cell_type": "code",
      "execution_count": 231,
      "metadata": {
        "id": "17OHVUmND-o1"
      },
      "outputs": [],
      "source": [
        "# Reconstruct the Brain \n",
        "\n",
        "m = np.where(gt != 0)\n",
        "em = np.zeros(img.shape)\n",
        "count = 0\n",
        "\n",
        "for i, j, k in zip(m[0], m[1], m[2]):\n",
        "    # reconstruction of labels\n",
        "    em[i, j, k] = np.argmax(weights[count, :]) + 1\n",
        "    count += 1\n",
        "\n",
        "\n",
        "# csf_knumber, gm_knumber, wm_knumber\n",
        "#dice_csf = compute_dice_coefficient(gt == 1, em == 2)\n",
        "#dice_gm =  compute_dice_coefficient(gt == 2, em == 3)\n",
        "#dice_wm = compute_dice_coefficient(gt == 3, em == 1)\n",
        "\n",
        "#print(dice_csf)\n",
        "#print(dice_gm)\n",
        "#print(dice_wm)\n"
      ]
    },
    {
      "cell_type": "code",
      "execution_count": 232,
      "metadata": {
        "colab": {
          "base_uri": "https://localhost:8080/",
          "height": 521
        },
        "id": "DMiWuDwu_6vg",
        "outputId": "677f42c4-8385-4f69-fa98-8de45c795b69"
      },
      "outputs": [
        {
          "output_type": "display_data",
          "data": {
            "text/plain": [
              "<Figure size 432x288 with 1 Axes>"
            ],
            "image/png": "[encoded data removed]"
          },
          "metadata": {
            "needs_background": "light"
          }
        },
        {
          "output_type": "display_data",
          "data": {
            "text/plain": [
              "<Figure size 432x288 with 1 Axes>"
            ],
            "image/png": "[encoded data removed]"
          },
          "metadata": {
            "needs_background": "light"
          }
        }
      ],
      "source": [
        "plt.imshow(em[:,:,24], cmap='gray') # em --> csf = 3, gm = 2, wm = 1\n",
        "plt.show()\n",
        "plt.imshow(gt[:,:,24], cmap='gray') # gt --> csf = 1, gm = 2, wm = 3\n",
        "plt.show()"
      ]
    },
    {
      "cell_type": "code",
      "execution_count": null,
      "metadata": {
        "id": "frjXuOqOsYHT"
      },
      "outputs": [],
      "source": [
        "data = np.ones(img.shape, dtype=np.int16)\n",
        "img_new = nib.Nifti1Image(em, img_info.affine)\n",
        "img_new.get_data_dtype() == np.dtype(np.int16)\n",
        "\n",
        "nib.save(img_new, '/content/drive/MyDrive/MAIA/Semester3/MISA/P2_data/5/volume_patient5.nii')"
      ]
    }
  ],
  "metadata": {
    "colab": {
      "collapsed_sections": [],
      "provenance": [],
      "include_colab_link": true
    },
    "kernelspec": {
      "display_name": "Python 3",
      "name": "python3"
    },
    "language_info": {
      "name": "python"
    }
  },
  "nbformat": 4,
  "nbformat_minor": 0
}